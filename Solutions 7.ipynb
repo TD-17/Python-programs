{
 "cells": [
  {
   "cell_type": "markdown",
   "metadata": {},
   "source": [
    "# Exercise - 7"
   ]
  },
  {
   "cell_type": "markdown",
   "metadata": {},
   "source": [
    "## 1. Dictionary containing names of your friends as keys and their surnames as values"
   ]
  },
  {
   "cell_type": "code",
   "execution_count": 9,
   "metadata": {},
   "outputs": [
    {
     "name": "stdout",
     "output_type": "stream",
     "text": [
      "{'James': 'Smith', 'Robert': 'Garcia', 'Shasha': 'Martinez', 'Rose': 'Miller'}\n"
     ]
    }
   ],
   "source": [
    "friends = {\n",
    "    \"James\" : \"Smith\",\n",
    "    \"Robert\" : \"Garcia\",\n",
    "    \"Shasha\" : \"Martinez\",\n",
    "    \"Rose\" : \"Miller\"\n",
    "}\n",
    "print(friends)"
   ]
  },
  {
   "cell_type": "markdown",
   "metadata": {},
   "source": [
    "## 2. Create marks of five students in three subjects in five saperate dictionaries then create a nested dictionary which stores these five dictionaries and prints results of all the students"
   ]
  },
  {
   "cell_type": "code",
   "execution_count": 26,
   "metadata": {},
   "outputs": [
    {
     "name": "stdout",
     "output_type": "stream",
     "text": [
      "Student 1 : {'Maths': '96', 'English': '92', 'Science': '90'}\n",
      "Student 2 : {'Maths': '98', 'English': '90', 'Science': '89'}\n",
      "Student 3 : {'Maths': '89', 'English': '85', 'Science': '84'}\n",
      "Student 4 : {'Maths': '86', 'English': '82', 'Science': '80'}\n",
      "Student 5 : {'Maths': '98', 'English': '90', 'Science': '94'}\n"
     ]
    }
   ],
   "source": [
    "s1 = {\n",
    "    \"Maths\" : \"96\",\n",
    "    \"English\" : \"92\",\n",
    "    \"Science\" : \"90\"\n",
    "}\n",
    "s2 = {\n",
    "    \"Maths\" : \"98\",\n",
    "    \"English\" : \"90\",\n",
    "    \"Science\" : \"89\"\n",
    "}\n",
    "s3 = {\n",
    "    \"Maths\" : \"89\",\n",
    "    \"English\" : \"85\",\n",
    "    \"Science\" : \"84\"\n",
    "}\n",
    "s4 = {\n",
    "    \"Maths\" : \"86\",\n",
    "    \"English\" : \"82\",\n",
    "    \"Science\" : \"80\"\n",
    "}\n",
    "s5 = {\n",
    "    \"Maths\" : \"98\",\n",
    "    \"English\" : \"90\",\n",
    "    \"Science\" : \"94\"\n",
    "}\n",
    "\n",
    "marks = {\n",
    "    1:{\n",
    "    \"Maths\" : \"96\",\n",
    "    \"English\" : \"92\",\n",
    "    \"Science\" : \"90\"\n",
    "    },\n",
    "    2:{\n",
    "    \"Maths\" : \"98\",\n",
    "    \"English\" : \"90\",\n",
    "    \"Science\" : \"89\"\n",
    "    },\n",
    "    3:{\n",
    "    \"Maths\" : \"89\",\n",
    "    \"English\" : \"85\",\n",
    "    \"Science\" : \"84\"\n",
    "    },\n",
    "    4:{\n",
    "    \"Maths\" : \"86\",\n",
    "    \"English\" : \"82\",\n",
    "    \"Science\" : \"80\"\n",
    "    },\n",
    "    5:{\n",
    "    \"Maths\" : \"98\",\n",
    "    \"English\" : \"90\",\n",
    "    \"Science\" : \"94\"\n",
    "    }\n",
    "    \n",
    "}\n",
    "for i in marks:\n",
    "    print(\"Student\", i, \":\", marks[i])"
   ]
  },
  {
   "cell_type": "markdown",
   "metadata": {},
   "source": [
    "## 3. Create marks of five students in three subjects in five separate dictionaries, add their marks and store it in their respective dictionaries"
   ]
  },
  {
   "cell_type": "code",
   "execution_count": 10,
   "metadata": {},
   "outputs": [
    {
     "name": "stdout",
     "output_type": "stream",
     "text": [
      "{'Maths': 96, 'English': 92, 'Science': 90, 'Total marks': 278}\n",
      "{'Maths': 98, 'English': 90, 'Science': 89, 'Total marks': 277}\n",
      "{'Maths': 89, 'English': 85, 'Science': 84, 'Total marks': 258}\n",
      "{'Maths': 86, 'English': 82, 'Science': 80, 'Total marks': 248}\n",
      "{'Maths': 98, 'English': 90, 'Science': 94, 'Total marks': 282}\n"
     ]
    }
   ],
   "source": [
    "s1 = {\n",
    "    \"Maths\" : 96,\n",
    "    \"English\" : 92,\n",
    "    \"Science\" : 90\n",
    "}\n",
    "s2 = {\n",
    "    \"Maths\" : 98,\n",
    "    \"English\" : 90,\n",
    "    \"Science\" : 89\n",
    "}\n",
    "s3 = {\n",
    "    \"Maths\" : 89,\n",
    "    \"English\" : 85,\n",
    "    \"Science\" : 84\n",
    "}\n",
    "s4 = {\n",
    "    \"Maths\" : 86,\n",
    "    \"English\" : 82,\n",
    "    \"Science\" : 80\n",
    "}\n",
    "s5 = {\n",
    "    \"Maths\" : 98,\n",
    "    \"English\" : 90,\n",
    "    \"Science\" : 94\n",
    "}\n",
    "\n",
    "m1 = 0\n",
    "m2 = 0\n",
    "m3 = 0\n",
    "m4 = 0\n",
    "m5 = 0\n",
    "for i in s1:\n",
    "    m1 += s1[i]\n",
    "for i in s2:\n",
    "    m2 += s2[i]\n",
    "for i in s3:\n",
    "    m3 += s3[i]\n",
    "for i in s4:\n",
    "    m4 += s4[i]\n",
    "for i in s5:\n",
    "    m5 += s5[i]\n",
    "s1['Total marks'] = m1\n",
    "s2['Total marks'] = m2\n",
    "s3['Total marks'] = m3\n",
    "s4['Total marks'] = m4\n",
    "s5['Total marks'] = m5\n",
    "\n",
    "print(s1)\n",
    "print(s2)\n",
    "print(s3)\n",
    "print(s4)\n",
    "print(s5)"
   ]
  },
  {
   "cell_type": "markdown",
   "metadata": {},
   "source": []
  },
  {
   "cell_type": "code",
   "execution_count": null,
   "metadata": {},
   "outputs": [],
   "source": [
    "\n",
    "        "
   ]
  }
 ],
 "metadata": {
  "kernelspec": {
   "display_name": "Python 3",
   "language": "python",
   "name": "python3"
  },
  "language_info": {
   "codemirror_mode": {
    "name": "ipython",
    "version": 3
   },
   "file_extension": ".py",
   "mimetype": "text/x-python",
   "name": "python",
   "nbconvert_exporter": "python",
   "pygments_lexer": "ipython3",
   "version": "3.8.5"
  }
 },
 "nbformat": 4,
 "nbformat_minor": 4
}
