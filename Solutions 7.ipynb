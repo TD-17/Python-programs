{
 "cells": [
  {
   "cell_type": "markdown",
   "metadata": {},
   "source": [
    "# Exercise - 7"
   ]
  },
  {
   "cell_type": "markdown",
   "metadata": {},
   "source": [
    "## 1. Dictionary containing names of your friends as keys and their surnames as values"
   ]
  },
  {
   "cell_type": "code",
   "execution_count": 9,
   "metadata": {},
   "outputs": [
    {
     "name": "stdout",
     "output_type": "stream",
     "text": [
      "{'James': 'Smith', 'Robert': 'Garcia', 'Shasha': 'Martinez', 'Rose': 'Miller'}\n"
     ]
    }
   ],
   "source": [
    "friends = {\n",
    "    \"James\" : \"Smith\",\n",
    "    \"Robert\" : \"Garcia\",\n",
    "    \"Shasha\" : \"Martinez\",\n",
    "    \"Rose\" : \"Miller\"\n",
    "}\n",
    "print(friends)"
   ]
  },
  {
   "cell_type": "markdown",
   "metadata": {},
   "source": [
    "## 2. Create marks of five students in three subjects in five saperate dictionaries then create a nested dictionary which stores these five dictionaries and prints results of all the students"
   ]
  },
  {
   "cell_type": "code",
   "execution_count": 6,
   "metadata": {},
   "outputs": [
    {
     "name": "stdout",
     "output_type": "stream",
     "text": [
      "{1: {'Maths': '96', 'English': '92', 'Science': '90'}, 2: {'Maths': '98', 'English': '90', 'Science': '89'}, 3: {'Maths': '89', 'English': '85', 'Science': '84'}, 4: {'Maths': '86', 'English': '82', 'Science': '80'}, 5: {'Maths': '98', 'English': '90', 'Science': '94'}}\n"
     ]
    }
   ],
   "source": [
    "s1 = {\n",
    "    \"Maths\" : \"96\",\n",
    "    \"English\" : \"92\",\n",
    "    \"Science\" : \"90\"\n",
    "}\n",
    "s2 = {\n",
    "    \"Maths\" : \"98\",\n",
    "    \"English\" : \"90\",\n",
    "    \"Science\" : \"89\"\n",
    "}\n",
    "s3 = {\n",
    "    \"Maths\" : \"89\",\n",
    "    \"English\" : \"85\",\n",
    "    \"Science\" : \"84\"\n",
    "}\n",
    "s4 = {\n",
    "    \"Maths\" : \"86\",\n",
    "    \"English\" : \"82\",\n",
    "    \"Science\" : \"80\"\n",
    "}\n",
    "s5 = {\n",
    "    \"Maths\" : \"98\",\n",
    "    \"English\" : \"90\",\n",
    "    \"Science\" : \"94\"\n",
    "}\n",
    "marks = {1:s1, 2:s2, 3:s3, 4:s4, 5:s5}\n",
    "print(marks)"
   ]
  },
  {
   "cell_type": "markdown",
   "metadata": {},
   "source": [
    "## 3. Create marks of five students in three subjects in five separate dictionaries, add their marks and store it in their respective dictionaries"
   ]
  },
  {
   "cell_type": "code",
   "execution_count": 10,
   "metadata": {},
   "outputs": [
    {
     "name": "stdout",
     "output_type": "stream",
     "text": [
      "{'Maths': 96, 'English': 92, 'Science': 90, 'Total marks': 278}\n",
      "{'Maths': 98, 'English': 90, 'Science': 89, 'Total marks': 277}\n",
      "{'Maths': 89, 'English': 85, 'Science': 84, 'Total marks': 258}\n",
      "{'Maths': 86, 'English': 82, 'Science': 80, 'Total marks': 248}\n",
      "{'Maths': 98, 'English': 90, 'Science': 94, 'Total marks': 282}\n"
     ]
    }
   ],
   "source": [
    "s1 = {\n",
    "    \"Maths\" : 96,\n",
    "    \"English\" : 92,\n",
    "    \"Science\" : 90\n",
    "}\n",
    "s2 = {\n",
    "    \"Maths\" : 98,\n",
    "    \"English\" : 90,\n",
    "    \"Science\" : 89\n",
    "}\n",
    "s3 = {\n",
    "    \"Maths\" : 89,\n",
    "    \"English\" : 85,\n",
    "    \"Science\" : 84\n",
    "}\n",
    "s4 = {\n",
    "    \"Maths\" : 86,\n",
    "    \"English\" : 82,\n",
    "    \"Science\" : 80\n",
    "}\n",
    "s5 = {\n",
    "    \"Maths\" : 98,\n",
    "    \"English\" : 90,\n",
    "    \"Science\" : 94\n",
    "}\n",
    "\n",
    "m1 = 0\n",
    "m2 = 0\n",
    "m3 = 0\n",
    "m4 = 0\n",
    "m5 = 0\n",
    "for i in s1:\n",
    "    m1 += s1[i]\n",
    "for i in s2:\n",
    "    m2 += s2[i]\n",
    "for i in s3:\n",
    "    m3 += s3[i]\n",
    "for i in s4:\n",
    "    m4 += s4[i]\n",
    "for i in s5:\n",
    "    m5 += s5[i]\n",
    "s1['Total marks'] = m1\n",
    "s2['Total marks'] = m2\n",
    "s3['Total marks'] = m3\n",
    "s4['Total marks'] = m4\n",
    "s5['Total marks'] = m5\n",
    "\n",
    "print(s1)\n",
    "print(s2)\n",
    "print(s3)\n",
    "print(s4)\n",
    "print(s5)"
   ]
  },
  {
   "cell_type": "markdown",
   "metadata": {},
   "source": [
    "## 4. Ask users for student name and marks and store all of these in a dictionary"
   ]
  },
  {
   "cell_type": "code",
   "execution_count": 8,
   "metadata": {},
   "outputs": [
    {
     "name": "stdout",
     "output_type": "stream",
     "text": [
      "Enter number of students 4\n",
      "Enter you name Rose\n",
      "Enter your total marks 87\n",
      "Enter you name Ariana\n",
      "Enter your total marks 98\n",
      "Enter you name Taylor\n",
      "Enter your total marks 56\n",
      "Enter you name Jack\n",
      "Enter your total marks 87\n",
      "{'Rose': 87, 'Ariana': 98, 'Taylor': 56, 'Jack': 87}\n"
     ]
    }
   ],
   "source": [
    "name = ''\n",
    "marks = 0\n",
    "result = {}\n",
    "n = int(input('Enter number of students '))\n",
    "i = 0\n",
    "while i!=n:\n",
    "    name = input('Enter you name ')\n",
    "    marks = int(input('Enter your total marks '))\n",
    "    result[name] = marks\n",
    "    i = i+1\n",
    "print(result)       "
   ]
  },
  {
   "cell_type": "markdown",
   "metadata": {},
   "source": [
    "## 5. Create a dictionary with month names as keys and no. of days as values"
   ]
  },
  {
   "cell_type": "code",
   "execution_count": 7,
   "metadata": {},
   "outputs": [
    {
     "name": "stdout",
     "output_type": "stream",
     "text": [
      "Enter the name of month Jan\n",
      "Enter number of days in this month 31\n",
      "Enter the name of month Feb\n",
      "Enter number of days in this month 28\n",
      "Enter the name of month Mar\n",
      "Enter number of days in this month 31\n",
      "Enter the name of month Apr\n",
      "Enter number of days in this month 30\n",
      "Enter the name of month May\n",
      "Enter number of days in this month 31\n",
      "Enter the name of month Jun\n",
      "Enter number of days in this month 30\n",
      "Enter the name of month Jul\n",
      "Enter number of days in this month 31\n",
      "Enter the name of month Aug\n",
      "Enter number of days in this month 31\n",
      "Enter the name of month Sep\n",
      "Enter number of days in this month 30\n",
      "Enter the name of month Oct\n",
      "Enter number of days in this month 31\n",
      "Enter the name of month Nov\n",
      "Enter number of days in this month 30\n",
      "Enter the name of month Dec\n",
      "Enter number of days in this month 31\n",
      "{'Jan': 31, 'Feb': 28, 'Mar': 31, 'Apr': 30, 'May': 31, 'Jun': 30, 'Jul': 31, 'Aug': 31, 'Sep': 30, 'Oct': 31, 'Nov': 30, 'Dec': 31}\n",
      "Enter the name of month Mar\n",
      "31\n",
      "Months having 30 days are: \n",
      "Apr\n",
      "Jun\n",
      "Sep\n",
      "Nov\n"
     ]
    }
   ],
   "source": [
    "months = {}\n",
    "i = 0\n",
    "while i!=12:  \n",
    "    name = input('Enter the name of month ')\n",
    "    days = int(input('Enter number of days in this month '))\n",
    "    months[name] = days\n",
    "    i = i+1\n",
    "print(months)\n",
    "# Print no of days\n",
    "name = input('Enter the name of month ')\n",
    "for month in months:\n",
    "    if month == name:\n",
    "        print(months[month])\n",
    "# Print all months having 30 days\n",
    "print('Months having 30 days are: ')\n",
    "for month in months:\n",
    "    if months[month] == 30:\n",
    "        print(month)"
   ]
  },
  {
   "cell_type": "markdown",
   "metadata": {},
   "source": [
    "## 6. Store details of 5 students in a dictionary "
   ]
  },
  {
   "cell_type": "code",
   "execution_count": 16,
   "metadata": {},
   "outputs": [
    {
     "name": "stdout",
     "output_type": "stream",
     "text": [
      "Enter roll number 1\n",
      "Enter name Tan\n",
      "Enter marks 98\n",
      "Enter cgpa 9.8\n",
      "Enter roll number 2\n",
      "Enter name Ugc\n",
      "Enter marks 99\n",
      "Enter cgpa 9.9\n",
      "Enter roll number 3\n",
      "Enter name Edc\n",
      "Enter marks 89\n",
      "Enter cgpa 8.9\n",
      "Enter roll number 4\n",
      "Enter name Ybh\n",
      "Enter marks 67\n",
      "Enter cgpa 6.7\n",
      "Enter roll number 5\n",
      "Enter name Obh\n",
      "Enter marks 78\n",
      "Enter cgpa 7.8\n",
      "{0: {'RollNo': 1, 'Name': 'Tan', 'Marks': 98, 'CGPA': 9.8}, 1: {'RollNo': 2, 'Name': 'Ugc', 'Marks': 99, 'CGPA': 9.9}, 2: {'RollNo': 3, 'Name': 'Edc', 'Marks': 89, 'CGPA': 8.9}, 3: {'RollNo': 4, 'Name': 'Ybh', 'Marks': 67, 'CGPA': 6.7}, 4: {'RollNo': 5, 'Name': 'Obh', 'Marks': 78, 'CGPA': 7.8}}\n"
     ]
    }
   ],
   "source": [
    "Details = {}\n",
    "i = 0 \n",
    "while i!=5:\n",
    "    student = {}\n",
    "    roll = int(input('Enter roll number '))\n",
    "    name = input('Enter name ')\n",
    "    marks = int(input('Enter marks '))\n",
    "    cgpa = float(input('Enter cgpa '))\n",
    "    student['RollNo'] = roll\n",
    "    student['Name'] = name\n",
    "    student['Marks'] = marks\n",
    "    student['CGPA'] = cgpa\n",
    "    Details[i] = student\n",
    "    i = i+1\n",
    "print(Details)"
   ]
  },
  {
   "cell_type": "markdown",
   "metadata": {},
   "source": [
    "## 7. Reverse the dictionary"
   ]
  },
  {
   "cell_type": "code",
   "execution_count": 21,
   "metadata": {},
   "outputs": [
    {
     "name": "stdout",
     "output_type": "stream",
     "text": [
      "{'v5': 'k5', 'v4': 'k4', 'v3': 'k3', 'v2': 'k2', 'v1': 'k1'}\n"
     ]
    }
   ],
   "source": [
    "# This method wont work for multiple same values\n",
    "\n",
    "# initializing dictionary  \n",
    "d1 = {\"k1\":\"v1\",\"k2\":\"v2\",\"k3\":\"v3\",\"k4\":\"v4\",\"k5\":\"v5\"}\n",
    "# Swapping kay and values\n",
    "d2 = dict([(value, key) for key, value in d1.items()]) \n",
    "# Reversing the dictionary\n",
    "d2 = dict(reversed(list(d2.items())))\n",
    "# Printing new dictionary\n",
    "print(d2)\n"
   ]
  },
  {
   "cell_type": "markdown",
   "metadata": {},
   "source": [
    "## 8.  Print the overlapping keys in two dictionaries"
   ]
  },
  {
   "cell_type": "code",
   "execution_count": 1,
   "metadata": {},
   "outputs": [
    {
     "name": "stdout",
     "output_type": "stream",
     "text": [
      "['k2', 'k5']\n"
     ]
    }
   ],
   "source": [
    "# Dictionary 1\n",
    "d1 = {\"k1\":\"v1\",\"k2\":\"v2\",\"k3\":\"v3\",\"k4\":\"v4\",\"k5\":\"v5\"}  \n",
    "# Dictionary 2\n",
    "d2 = {\"s1\":\"v1\",\"k2\":\"v2\",\"s3\":\"v3\",\"s4\":\"v4\",\"k5\":\"v5\"}        \n",
    "\n",
    "OverlappingKeys =[ ]                                          \n",
    "\n",
    "for i in d1.keys() :    \n",
    "           if i in d2.keys(): \n",
    "                   # Adding overlapping keys to the list\n",
    "                   OverlappingKeys.append(i)      \n",
    "# Printing overlapping keys\n",
    "print(OverlappingKeys)"
   ]
  },
  {
   "cell_type": "markdown",
   "metadata": {},
   "source": [
    "## 9. If two same values have different keys"
   ]
  },
  {
   "cell_type": "code",
   "execution_count": 8,
   "metadata": {},
   "outputs": [
    {
     "name": "stdout",
     "output_type": "stream",
     "text": [
      "{'v1': 1, 'v2': 1, 'v3': 1, 'v5': 2}\n",
      "2 keys have same values\n"
     ]
    }
   ],
   "source": [
    "# Dictionary 1\n",
    "d1 = {\"k1\":\"v1\",\"k2\":\"v2\",\"k3\":\"v3\",\"k4\":\"v5\",\"k5\":\"v5\"}  \n",
    "count = {}\n",
    "val = d1.values()\n",
    "for i in val:\n",
    "    if i not in count:\n",
    "        count[i] = 0\n",
    "    count[i] += 1\n",
    "print(count)\n",
    "\n",
    "a = False \n",
    "for i in count.values():\n",
    "     if i>1:\n",
    "        a = True\n",
    "        print(i, 'keys have same values')\n",
    "if a == False:\n",
    "    print('No keys have same values')"
   ]
  }
 ],
 "metadata": {
  "kernelspec": {
   "display_name": "Python 3",
   "language": "python",
   "name": "python3"
  },
  "language_info": {
   "codemirror_mode": {
    "name": "ipython",
    "version": 3
   },
   "file_extension": ".py",
   "mimetype": "text/x-python",
   "name": "python",
   "nbconvert_exporter": "python",
   "pygments_lexer": "ipython3",
   "version": "3.8.5"
  }
 },
 "nbformat": 4,
 "nbformat_minor": 4
}
