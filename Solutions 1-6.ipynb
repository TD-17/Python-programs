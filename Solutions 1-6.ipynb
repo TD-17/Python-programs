{
 "cells": [
  {
   "cell_type": "markdown",
   "metadata": {},
   "source": [
    "# Exercise - 1\n",
    "\n",
    "## Divisible by 5 or not"
   ]
  },
  {
   "cell_type": "code",
   "execution_count": 5,
   "metadata": {},
   "outputs": [
    {
     "name": "stdout",
     "output_type": "stream",
     "text": [
      "Enter any number34\n",
      "No is not divisible by 5\n"
     ]
    }
   ],
   "source": [
    "x = int(input('Enter any number'))\n",
    "if x % 5 == 0:\n",
    "    print('No is divisible by 5')\n",
    "else:\n",
    "    print('No is not divisible by 5')\n",
    "    "
   ]
  },
  {
   "cell_type": "markdown",
   "metadata": {},
   "source": [
    "## Even and Odd"
   ]
  },
  {
   "cell_type": "code",
   "execution_count": 8,
   "metadata": {},
   "outputs": [
    {
     "name": "stdout",
     "output_type": "stream",
     "text": [
      "Enter any number7\n",
      "No is odd\n"
     ]
    }
   ],
   "source": [
    "x = int(input('Enter any number'))\n",
    "if x % 2 == 0:\n",
    "    print('No is even')\n",
    "else:\n",
    "    print('No is odd')"
   ]
  },
  {
   "cell_type": "markdown",
   "metadata": {},
   "source": [
    "## Roots of Quadratic Equation"
   ]
  },
  {
   "cell_type": "code",
   "execution_count": 2,
   "metadata": {},
   "outputs": [
    {
     "name": "stdout",
     "output_type": "stream",
     "text": [
      "Enter the value of a4\n",
      "Enter the value of b5\n",
      "Enter the value of c1\n",
      "Roots are real\n"
     ]
    }
   ],
   "source": [
    "a = int(input('Enter the value of a'))\n",
    "b = int(input('Enter the value of b'))\n",
    "c = int(input('Enter the value of c'))\n",
    "if b*b - 4 * a * c < 0:\n",
    "    print('Roots are imaginary')\n",
    "elif b*b - 4 * a * c > 0:\n",
    "    print('Roots are real')\n",
    "else: \n",
    "    print('Roots are real and equal')"
   ]
  },
  {
   "cell_type": "markdown",
   "metadata": {},
   "source": [
    "## Grade of a student\n"
   ]
  },
  {
   "cell_type": "code",
   "execution_count": 1,
   "metadata": {},
   "outputs": [
    {
     "name": "stdout",
     "output_type": "stream",
     "text": [
      "Enter percentage of students55\n",
      "C\n"
     ]
    }
   ],
   "source": [
    "p = int(input('Enter percentage of students'))\n",
    "if p < 40:\n",
    "    print('NC')\n",
    "elif p >= 40 and p < 50:\n",
    "    print('D')\n",
    "elif p >= 50 and p < 60:\n",
    "    print('C')\n",
    "elif p >= 60 and p < 70:\n",
    "    print('B')\n",
    "elif p >= 70 and p < 80:\n",
    "    print('A')\n",
    "else:\n",
    "    print('O')"
   ]
  },
  {
   "cell_type": "markdown",
   "metadata": {},
   "source": [
    "## Electricity Bill"
   ]
  },
  {
   "cell_type": "code",
   "execution_count": 20,
   "metadata": {},
   "outputs": [
    {
     "name": "stdout",
     "output_type": "stream",
     "text": [
      "Enter the units650\n",
      "1625.0\n"
     ]
    }
   ],
   "source": [
    "u = int(input('Enter the units'))\n",
    "if u <= 200:\n",
    "    print(0.5 * u)\n",
    "elif u > 200 and u <= 500:\n",
    "    print(u)\n",
    "elif u > 500 and u <= 1000:\n",
    "    print(u * 2.5)\n",
    "elif u > 1000 and u <= 1500:\n",
    "    print(u * 3.5)\n",
    "elif u > 1500 and u <= 2500:\n",
    "    print(u * 5)\n",
    "else:\n",
    "    print(u * 10)\n",
    "    "
   ]
  },
  {
   "cell_type": "markdown",
   "metadata": {},
   "source": [
    "# Exercise - 2"
   ]
  },
  {
   "cell_type": "markdown",
   "metadata": {},
   "source": [
    "## Generating even numbers "
   ]
  },
  {
   "cell_type": "code",
   "execution_count": 7,
   "metadata": {},
   "outputs": [
    {
     "name": "stdout",
     "output_type": "stream",
     "text": [
      "Enter the value of n 10\n",
      "0\n",
      "2\n",
      "4\n",
      "6\n",
      "8\n",
      "10\n"
     ]
    }
   ],
   "source": [
    "n = int(input('Enter the value of n '))\n",
    "i = 0\n",
    "while i <= n:\n",
    "     print(i)\n",
    "     i = i + 2\n"
   ]
  },
  {
   "cell_type": "markdown",
   "metadata": {},
   "source": [
    "## Prime or not"
   ]
  },
  {
   "cell_type": "code",
   "execution_count": 16,
   "metadata": {},
   "outputs": [
    {
     "name": "stdout",
     "output_type": "stream",
     "text": [
      "Enter any number20\n",
      "x is a prime number\n"
     ]
    }
   ],
   "source": [
    "n = int(input('Enter any number'))\n",
    "flag = 0\n",
    "for x in range(2, int(n/2) + 1):\n",
    "    if n%x == 0:\n",
    "        flag = 1\n",
    "        break\n",
    "if flag == 0:\n",
    "    print('x is not a prime number')\n",
    "else:\n",
    "    print('x is a prime number')"
   ]
  },
  {
   "cell_type": "markdown",
   "metadata": {},
   "source": [
    "## Fibonacci series"
   ]
  },
  {
   "cell_type": "code",
   "execution_count": 17,
   "metadata": {},
   "outputs": [
    {
     "name": "stdout",
     "output_type": "stream",
     "text": [
      "How many terms? 8\n",
      "Fibonacci sequence:\n",
      "0\n",
      "1\n",
      "1\n",
      "2\n",
      "3\n",
      "5\n",
      "8\n",
      "13\n"
     ]
    }
   ],
   "source": [
    "\n",
    "n = int(input(\"How many terms? \"))\n",
    "\n",
    "n1, n2 = 0, 1\n",
    "count = 0\n",
    "\n",
    "if n <= 0:\n",
    "   print(\"Please enter a positive integer\")\n",
    "elif n == 1:\n",
    "   print(\"Fibonacci sequence upto\",n,\":\")\n",
    "   print(n1)\n",
    "else:\n",
    "   print(\"Fibonacci sequence:\")\n",
    "   while count < n:\n",
    "       print(n1)\n",
    "       nth = n1 + n2\n",
    "       n1 = n2\n",
    "       n2 = nth\n",
    "       count += 1"
   ]
  },
  {
   "cell_type": "markdown",
   "metadata": {},
   "source": [
    "## Sum of natural numbers"
   ]
  },
  {
   "cell_type": "code",
   "execution_count": 19,
   "metadata": {},
   "outputs": [
    {
     "name": "stdout",
     "output_type": "stream",
     "text": [
      "Enter value of n5\n",
      "15\n"
     ]
    }
   ],
   "source": [
    "n = int(input('Enter value of n'))\n",
    "sum = 0\n",
    "for i in range(1, n+1):\n",
    "    sum += i\n",
    "print(sum)"
   ]
  },
  {
   "cell_type": "markdown",
   "metadata": {},
   "source": [
    "## Generate series"
   ]
  },
  {
   "cell_type": "code",
   "execution_count": 22,
   "metadata": {},
   "outputs": [
    {
     "name": "stdout",
     "output_type": "stream",
     "text": [
      "Enter upper limit5\n",
      "2\n",
      "5\n",
      "10\n",
      "17\n",
      "26\n"
     ]
    }
   ],
   "source": [
    "n = int(input('Enter upper limit'))\n",
    "for x in range(1, n + 1):\n",
    "    cal = x*x + 1\n",
    "    print(cal)\n",
    "    sum = sum + cal\n"
   ]
  },
  {
   "cell_type": "markdown",
   "metadata": {},
   "source": [
    "## Prime number upto n"
   ]
  },
  {
   "cell_type": "code",
   "execution_count": 29,
   "metadata": {},
   "outputs": [
    {
     "name": "stdout",
     "output_type": "stream",
     "text": [
      "2\n",
      "3\n",
      "5\n",
      "7\n",
      "11\n",
      "13\n",
      "17\n",
      "19\n",
      "23\n",
      "29\n",
      "31\n",
      "37\n",
      "41\n",
      "43\n",
      "47\n",
      "53\n",
      "59\n",
      "61\n",
      "67\n",
      "71\n",
      "73\n",
      "79\n",
      "83\n",
      "89\n",
      "97\n"
     ]
    }
   ],
   "source": [
    "for i in range(2, 100):\n",
    "    for j in range(2, int(i/2) + 1):\n",
    "        if i%j == 0:\n",
    "            flag = 1\n",
    "            break\n",
    "    if flag == 0:\n",
    "        print(i)\n",
    "    flag = 0;\n",
    "          "
   ]
  },
  {
   "cell_type": "markdown",
   "metadata": {},
   "source": [
    "## Armstrong or not"
   ]
  },
  {
   "cell_type": "code",
   "execution_count": 43,
   "metadata": {},
   "outputs": [
    {
     "name": "stdout",
     "output_type": "stream",
     "text": [
      "Enter any digit 153\n",
      "This is an armstrong number\n"
     ]
    }
   ],
   "source": [
    "n = int(input('Enter any digit '))\n",
    "num = n\n",
    "sum = 0\n",
    "while n > 0:\n",
    "    p = n%10\n",
    "    sum += p ** 3\n",
    "    n = int(n/10)\n",
    "if sum == num:\n",
    "    print('This is an armstrong number')\n",
    "else:\n",
    "    print('This is not an armstrong number')"
   ]
  },
  {
   "cell_type": "markdown",
   "metadata": {},
   "source": [
    "## Perfect square or not"
   ]
  },
  {
   "cell_type": "code",
   "execution_count": 29,
   "metadata": {},
   "outputs": [
    {
     "name": "stdout",
     "output_type": "stream",
     "text": [
      "Enter any number 64\n",
      "This number is a perfect square\n"
     ]
    }
   ],
   "source": [
    "import math\n",
    "n = int(input('Enter any number '))\n",
    "root = math.sqrt(n)\n",
    "if int(root + 0.5) ** 2 == n:\n",
    "    print('This number is a perfect square')\n",
    "else:\n",
    "    print('This number is not a perfect square')"
   ]
  },
  {
   "cell_type": "markdown",
   "metadata": {},
   "source": [
    "## Palindrome or not "
   ]
  },
  {
   "cell_type": "code",
   "execution_count": 27,
   "metadata": {},
   "outputs": [
    {
     "name": "stdout",
     "output_type": "stream",
     "text": [
      "Enter any number 121\n",
      "Number is palindrome\n"
     ]
    }
   ],
   "source": [
    "n = int(input('Enter any number '))\n",
    "num = n\n",
    "sum = 0\n",
    "while num > 0:\n",
    "    p = num % 10\n",
    "    sum = p + sum * 10\n",
    "    num = int(num/10)\n",
    "if sum == n:\n",
    "    print('Number is palindrome')\n",
    "else:\n",
    "    print('Number is not palindrome')\n",
    "    "
   ]
  },
  {
   "cell_type": "markdown",
   "metadata": {},
   "source": [
    "## Factorial "
   ]
  },
  {
   "cell_type": "code",
   "execution_count": 59,
   "metadata": {},
   "outputs": [
    {
     "name": "stdout",
     "output_type": "stream",
     "text": [
      "Enter any number 5\n",
      "120\n"
     ]
    }
   ],
   "source": [
    "n = int(input('Enter any number '))\n",
    "mul = 1\n",
    "for x in range(1, n + 1):\n",
    "    mul *= x\n",
    "print(mul)   "
   ]
  },
  {
   "cell_type": "markdown",
   "metadata": {},
   "source": [
    "## Leap year or not"
   ]
  },
  {
   "cell_type": "code",
   "execution_count": 60,
   "metadata": {},
   "outputs": [
    {
     "name": "stdout",
     "output_type": "stream",
     "text": [
      "Enter Year: 2004\n",
      "2004 is a Leap Year\n"
     ]
    }
   ],
   "source": [
    "year = int(input(\"Enter Year: \"))\n",
    "\n",
    "if year % 4 == 0 and year % 100 != 0:\n",
    "    print(year, \"is a Leap Year\")\n",
    "elif year % 100 == 0:\n",
    "    print(year, \"is not a Leap Year\")\n",
    "elif year % 400 ==0:\n",
    "    print(year, \"is a Leap Year\")\n",
    "else:\n",
    "    print(year, \"is not a Leap Year\")"
   ]
  },
  {
   "cell_type": "markdown",
   "metadata": {},
   "source": [
    "## pascal's triangle"
   ]
  },
  {
   "cell_type": "code",
   "execution_count": 18,
   "metadata": {},
   "outputs": [
    {
     "name": "stdout",
     "output_type": "stream",
     "text": [
      "Enter number of rows 5\n",
      "     1 \n",
      "    1 1 \n",
      "   1 2 1 \n",
      "  1 3 3 1 \n",
      " 1 4 6 4 1 \n"
     ]
    }
   ],
   "source": [
    "from math import factorial\n",
    "n = int(input('Enter number of rows '))\n",
    "for i in range(n):\n",
    "   \n",
    "        for s in range(n-i):\n",
    "            print(end=\" \")\n",
    "        for j in range(i + 1):\n",
    "            print(factorial(i)//(factorial(i-j) * factorial(j)), end=\" \")  \n",
    "        print()"
   ]
  },
  {
   "cell_type": "markdown",
   "metadata": {},
   "source": [
    "## 4/3 + 9/4 + 16/5 + 25/6 + ....... nth term"
   ]
  },
  {
   "cell_type": "code",
   "execution_count": 19,
   "metadata": {},
   "outputs": [
    {
     "name": "stdout",
     "output_type": "stream",
     "text": [
      "Enter value for n5\n",
      "10\n"
     ]
    }
   ],
   "source": [
    "import math\n",
    "n = int(input('Enter value for n'))\n",
    "sum = 0\n",
    "for i in range(2, n + 1):\n",
    "    sum += (i * i)//(i + 1)\n",
    "print(sum)"
   ]
  },
  {
   "cell_type": "markdown",
   "metadata": {},
   "source": [
    "## HCF of two numbers"
   ]
  },
  {
   "cell_type": "code",
   "execution_count": 21,
   "metadata": {},
   "outputs": [
    {
     "name": "stdout",
     "output_type": "stream",
     "text": [
      "Enter the value of a 36\n",
      "Enter the value of b 60\n",
      "12\n"
     ]
    }
   ],
   "source": [
    "def gcd(a, b):\n",
    "    \n",
    "    if a == 0:\n",
    "        return b\n",
    "    elif b == 0:\n",
    "        return a\n",
    "    elif a == b:\n",
    "        return a\n",
    "    elif a > b:\n",
    "        return gcd(a-b, b)\n",
    "    else:\n",
    "        return gcd(a, b-a)\n",
    "\n",
    "a = int(input('Enter the value of a '))\n",
    "b = int(input('Enter the value of b '))\n",
    "\n",
    "print(gcd(a,b))"
   ]
  },
  {
   "cell_type": "markdown",
   "metadata": {},
   "source": [
    "## Perfect squares between two numbers"
   ]
  },
  {
   "cell_type": "code",
   "execution_count": 30,
   "metadata": {},
   "outputs": [
    {
     "name": "stdout",
     "output_type": "stream",
     "text": [
      "Enter lower limit 10 \n",
      "Enter upper limit 20\n",
      "16\n"
     ]
    }
   ],
   "source": [
    "import math\n",
    "a = int(input('Enter lower limit '))\n",
    "b = int(input('Enter upper limit '))\n",
    "\n",
    "for x in range(a, b+1):\n",
    "    s = math.sqrt(x)\n",
    "    if int(s + 0.5) ** 2 == x:\n",
    "        print(x)\n",
    "    "
   ]
  },
  {
   "cell_type": "markdown",
   "metadata": {},
   "source": [
    "## Sum the series 4/2! +9/3! + 16/4! + ..... nth term"
   ]
  },
  {
   "cell_type": "code",
   "execution_count": 35,
   "metadata": {},
   "outputs": [
    {
     "name": "stdout",
     "output_type": "stream",
     "text": [
      "Enter an upper limit 3\n",
      "4.166666666666667\n"
     ]
    }
   ],
   "source": [
    "from math import factorial\n",
    "n = int(input('Enter an upper limit '))\n",
    "sum = 0\n",
    "for i in range(2, n + 2):\n",
    "    sum += i ** 2/factorial(i)\n",
    "print(sum)"
   ]
  },
  {
   "cell_type": "markdown",
   "metadata": {},
   "source": [
    "# Exercise - 3"
   ]
  },
  {
   "cell_type": "markdown",
   "metadata": {},
   "source": [
    "## String is palindrome or not"
   ]
  },
  {
   "cell_type": "code",
   "execution_count": 43,
   "metadata": {},
   "outputs": [
    {
     "name": "stdout",
     "output_type": "stream",
     "text": [
      "Enter any stringtanya\n",
      "tanya\n",
      "No\n"
     ]
    }
   ],
   "source": [
    "s = input('Enter any string')\n",
    "print(s)\n",
    "if (s == s[::-1]):\n",
    "    print('Yes')\n",
    "else:\n",
    "    print('No')"
   ]
  },
  {
   "cell_type": "markdown",
   "metadata": {},
   "source": [
    "## Capitalize the first letter of each word"
   ]
  },
  {
   "cell_type": "code",
   "execution_count": 50,
   "metadata": {},
   "outputs": [
    {
     "name": "stdout",
     "output_type": "stream",
     "text": [
      "Enter any sentence tanya is a good girl\n",
      "Tanya Is A Good Girl\n"
     ]
    }
   ],
   "source": [
    "string = input('Enter any sentence ')\n",
    "result = string.title()\n",
    "print(result)"
   ]
  },
  {
   "cell_type": "code",
   "execution_count": 55,
   "metadata": {},
   "outputs": [
    {
     "name": "stdout",
     "output_type": "stream",
     "text": [
      "Hello World\n"
     ]
    }
   ],
   "source": [
    "message = \"hello world\"\n",
    "capitalized_message = \" \".join([\n",
    "   word.capitalize()\n",
    "   for word in message.split(\" \")\n",
    "])\n",
    "print(capitalized_message)"
   ]
  },
  {
   "cell_type": "markdown",
   "metadata": {},
   "source": [
    "## Display the longest substring"
   ]
  },
  {
   "cell_type": "code",
   "execution_count": 105,
   "metadata": {},
   "outputs": [
    {
     "name": "stdout",
     "output_type": "stream",
     "text": [
      "Enter any sentence tatppppphhhkllnnjnxhaghw\n",
      "tppppphhhkllnnjnxh\n"
     ]
    }
   ],
   "source": [
    "def isVowel(c):\n",
    "    return (c == 'a' or c == 'e' or\n",
    "            c == 'i' or c == 'o' or\n",
    "            c == 'u')  \n",
    "string = input('Enter any sentence ')\n",
    "s = \" \"\n",
    "result = \" \"\n",
    "count = 0\n",
    "res = 0\n",
    "for i in range(len(string)):\n",
    "    \n",
    "      if(not isVowel(string[i])):\n",
    "            count += 1 \n",
    "            s += string[i]\n",
    "      else:\n",
    "            if(count >= res):\n",
    "                result = s\n",
    "                res = count\n",
    "                s = \" \"\n",
    "                count = 0\n",
    "if(count >= res):\n",
    "    result = s\n",
    "result = result.strip()\n",
    "print(result)"
   ]
  },
  {
   "cell_type": "markdown",
   "metadata": {},
   "source": [
    "## Capitalize every other letter in the string"
   ]
  },
  {
   "cell_type": "code",
   "execution_count": 107,
   "metadata": {},
   "outputs": [
    {
     "name": "stdout",
     "output_type": "stream",
     "text": [
      "Enter any stringtanya\n",
      "tAnYa\n"
     ]
    }
   ],
   "source": [
    "string = input('Enter any string')\n",
    "result = \" \"\n",
    "for i in range(len(string)):\n",
    "    if i%2 != 0:\n",
    "        result += string[i].capitalize()\n",
    "    else:\n",
    "        result += string[i]\n",
    "print(result.strip())"
   ]
  },
  {
   "cell_type": "markdown",
   "metadata": {},
   "source": [
    "## Vertify if Email belongs to banasthali.in domain"
   ]
  },
  {
   "cell_type": "code",
   "execution_count": 121,
   "metadata": {},
   "outputs": [
    {
     "name": "stdout",
     "output_type": "stream",
     "text": [
      "Enter you email tanya@banasthali.in\n",
      "This email belongs to banasthali.in domain\n"
     ]
    }
   ],
   "source": [
    "email = input('Enter you email ')\n",
    "r = email.split('@')\n",
    "if(len(r) == 2):\n",
    "    if r[1] == 'banasthali.in':\n",
    "        print(\"This email belongs to banasthali.in domain\")\n",
    "    else:\n",
    "        print(\"This email does not belong to banasthali.in domain\")\n",
    "else:\n",
    "    print(\"This email does not belong to banasthali.in domain\")"
   ]
  },
  {
   "cell_type": "markdown",
   "metadata": {},
   "source": [
    "## Count the number of vowels and consonants"
   ]
  },
  {
   "cell_type": "code",
   "execution_count": 129,
   "metadata": {},
   "outputs": [
    {
     "name": "stdout",
     "output_type": "stream",
     "text": [
      "Enter any string tanya\n",
      "Number of consonants are  3  and number of vowels are  2\n"
     ]
    }
   ],
   "source": [
    "string = input('Enter any string ')\n",
    "consonants = 0\n",
    "vowels = 0\n",
    "for i in range(len(string)):\n",
    "    if string[i] in (\"a\", \"e\", \"i\", \"o\", \"u\"):\n",
    "        vowels = vowels + 1\n",
    "        \n",
    "    elif string[i] >= 'a' and string[i] <= 'z':\n",
    "        consonants = consonants + 1\n",
    "print('Number of consonants are ', consonants, ' and number of vowels are ', vowels)\n"
   ]
  },
  {
   "cell_type": "markdown",
   "metadata": {},
   "source": [
    "## Count articles in a sentence"
   ]
  },
  {
   "cell_type": "code",
   "execution_count": 138,
   "metadata": {},
   "outputs": [
    {
     "name": "stdout",
     "output_type": "stream",
     "text": [
      "Enter any sentence the treasure in an igloo is a myth\n",
      "3\n"
     ]
    }
   ],
   "source": [
    "string = input('Enter any sentence ')\n",
    "count = 0\n",
    "for word in string.split(\" \"):\n",
    "    if word == \"an\" or word == \"the\" or word == \"a\":\n",
    "        count = count + 1\n",
    "print(count)"
   ]
  },
  {
   "cell_type": "markdown",
   "metadata": {},
   "source": [
    "## String has \"good\" or not"
   ]
  },
  {
   "cell_type": "code",
   "execution_count": 142,
   "metadata": {},
   "outputs": [
    {
     "name": "stdout",
     "output_type": "stream",
     "text": [
      "Enter any sentence tanya is a good girl\n",
      "This sentence contains \"good\" at 12  position\n"
     ]
    }
   ],
   "source": [
    "string = input('Enter any sentence ')\n",
    "if (string.find('good') == -1): \n",
    "    print('This sentence does not contain \"good\"')\n",
    "else:\n",
    "    position = string.find('good')\n",
    "    print('This sentence contains \"good\" at', position+1,' position')"
   ]
  },
  {
   "cell_type": "markdown",
   "metadata": {},
   "source": [
    "# Exercise - 4"
   ]
  },
  {
   "cell_type": "markdown",
   "metadata": {},
   "source": [
    "## Minimum element from a list of integers"
   ]
  },
  {
   "cell_type": "code",
   "execution_count": 28,
   "metadata": {},
   "outputs": [
    {
     "name": "stdout",
     "output_type": "stream",
     "text": [
      "2  is the minimum element found at position  2\n"
     ]
    }
   ],
   "source": [
    "import numpy\n",
    "number = [3, 2, 8, 5, 10, 6]\n",
    "print(numpy.min(number), ' is the minimum element found at position ', number.index(numpy.min(number)) + 1)"
   ]
  },
  {
   "cell_type": "markdown",
   "metadata": {},
   "source": [
    "## Calculate the mean"
   ]
  },
  {
   "cell_type": "code",
   "execution_count": 29,
   "metadata": {},
   "outputs": [
    {
     "name": "stdout",
     "output_type": "stream",
     "text": [
      "Mean is  5.666666666666667\n"
     ]
    }
   ],
   "source": [
    "number = [3, 2, 8, 5, 10, 6]\n",
    "mean = 0\n",
    "for i in number:\n",
    "    mean += i\n",
    "print('Mean is ', mean/len(number))\n",
    "    "
   ]
  },
  {
   "cell_type": "markdown",
   "metadata": {},
   "source": [
    "## Search an element in the list"
   ]
  },
  {
   "cell_type": "code",
   "execution_count": 36,
   "metadata": {},
   "outputs": [
    {
     "name": "stdout",
     "output_type": "stream",
     "text": [
      "Enter any number you want to find in the list 10\n",
      "Number is present at index  4\n"
     ]
    }
   ],
   "source": [
    "number = [3, 2, 8, 5, 10, 6]\n",
    "flag = 0\n",
    "element = int(input('Enter any number you want to find in the list '))\n",
    "for i in number:\n",
    "    if i == element:\n",
    "        flag = 1\n",
    "        print('Number is present at index ', number.index(i))\n",
    "        break;\n",
    "if flag == 0:\n",
    "    print('Number is not present')\n",
    " "
   ]
  },
  {
   "cell_type": "markdown",
   "metadata": {},
   "source": [
    "## Frequency of an element"
   ]
  },
  {
   "cell_type": "code",
   "execution_count": 40,
   "metadata": {},
   "outputs": [
    {
     "name": "stdout",
     "output_type": "stream",
     "text": [
      "Enter a list elements separated by space 2 3 4 5 6 2 3 3 54\n",
      "['2', '3', '4', '5', '6', '2', '3', '3', '54']\n",
      "Enter any number you want to find in the list 3\n",
      "The frequency of element  3  is  3\n"
     ]
    }
   ],
   "source": [
    "input_string = input(\"Enter a list elements separated by space \")\n",
    "number = input_string.split()\n",
    "print(number)\n",
    "element = input('Enter any number you want to find in the list ')\n",
    "count = 0\n",
    "for i in number:\n",
    "    if i == element:\n",
    "        count += 1\n",
    "print('The frequency of element ', element, ' is ', count)"
   ]
  },
  {
   "cell_type": "markdown",
   "metadata": {},
   "source": [
    "## Second largest element"
   ]
  },
  {
   "cell_type": "code",
   "execution_count": 46,
   "metadata": {},
   "outputs": [
    {
     "name": "stdout",
     "output_type": "stream",
     "text": [
      "Enter number of elements : 5\n",
      "7\n",
      "5\n",
      "3\n",
      "6\n",
      "8\n",
      "Second largest number is  7\n"
     ]
    }
   ],
   "source": [
    "import numpy\n",
    "lst = [] \n",
    "n = int(input(\"Enter number of elements : \")) \n",
    "for i in range(0, n): \n",
    "    ele = int(input()) \n",
    "    lst.append(ele)\n",
    "num = -99\n",
    "for i in lst:\n",
    "    if i > num and i < numpy.max(lst):\n",
    "        num = i\n",
    "print('Second largest number is ', num)"
   ]
  },
  {
   "cell_type": "markdown",
   "metadata": {},
   "source": [
    "## Shift zeroes to right and non - zeroes to left"
   ]
  },
  {
   "cell_type": "code",
   "execution_count": 51,
   "metadata": {},
   "outputs": [
    {
     "name": "stdout",
     "output_type": "stream",
     "text": [
      "Enter number of elements : 10\n",
      "6\n",
      "5\n",
      "0\n",
      "0\n",
      "8\n",
      "7\n",
      "0\n",
      "1\n",
      "2\n",
      "3\n",
      "[6, 5, 8, 7, 1, 2, 3, 0, 0, 0]\n"
     ]
    }
   ],
   "source": [
    "lst = [] \n",
    "n = int(input(\"Enter number of elements : \")) \n",
    "for i in range(0, n): \n",
    "    ele = int(input()) \n",
    "    lst.append(ele)\n",
    "a = [0 for i in range(lst.count(0))]\n",
    "x = [i for i in lst if i != 0]\n",
    "x.extend(a)\n",
    "print(x)"
   ]
  },
  {
   "cell_type": "markdown",
   "metadata": {},
   "source": [
    "## Add two matrices "
   ]
  },
  {
   "cell_type": "code",
   "execution_count": 4,
   "metadata": {},
   "outputs": [
    {
     "name": "stdout",
     "output_type": "stream",
     "text": [
      "Enter the number of rows:3\n",
      "Enter the number of columns:3\n",
      "Enter the data of first matrix\n",
      "1\n",
      "1\n",
      "1\n",
      "1\n",
      "1\n",
      "1\n",
      "1\n",
      "1\n",
      "1\n",
      "Enter the data of second matrix\n",
      "2\n",
      "2\n",
      "2\n",
      "2\n",
      "2\n",
      "2\n",
      "2\n",
      "2\n",
      "2\n",
      "3 3 3 \n",
      "3 3 3 \n",
      "3 3 3 \n"
     ]
    }
   ],
   "source": [
    "r = int(input(\"Enter the number of rows:\")) \n",
    "c = int(input(\"Enter the number of columns:\"))\n",
    "matrix1 = []\n",
    "print('Enter the data of first matrix')\n",
    "for i in range(r):\n",
    "    a = []\n",
    "    for j in range(c):\n",
    "        a.append(int(input()))\n",
    "    matrix1.append(a)\n",
    "print('Enter the data of second matrix')\n",
    "matrix2 = []\n",
    "for i in range(r):\n",
    "    a = []\n",
    "    for j in range(c):\n",
    "        a.append(int(input()))\n",
    "    matrix2.append(a)\n",
    "matrix3 = []\n",
    "for i in range(r):\n",
    "    a = []\n",
    "    for j in range(c):\n",
    "        a.append(0)\n",
    "    matrix3.append(a)\n",
    "for i in range(r):\n",
    "    for j in range(c):\n",
    "        matrix3[i][j] = matrix2[i][j] + matrix1[i][j]\n",
    "for i in range(r): \n",
    "    for j in range(c): \n",
    "        print(matrix3[i][j], end = \" \") \n",
    "    print() "
   ]
  },
  {
   "cell_type": "markdown",
   "metadata": {},
   "source": [
    "## Multiply two matrices"
   ]
  },
  {
   "cell_type": "code",
   "execution_count": 5,
   "metadata": {},
   "outputs": [
    {
     "name": "stdout",
     "output_type": "stream",
     "text": [
      "Enter the number of rows:3\n",
      "Enter the number of columns:3\n",
      "Enter the data of first matrix\n",
      "1\n",
      "1\n",
      "1\n",
      "1\n",
      "1\n",
      "1\n",
      "1\n",
      "1\n",
      "1\n",
      "Enter the data of second matrix\n",
      "2\n",
      "2\n",
      "2\n",
      "2\n",
      "2\n",
      "2\n",
      "2\n",
      "2\n",
      "2\n",
      "2 2 2 \n",
      "2 2 2 \n",
      "2 2 2 \n"
     ]
    }
   ],
   "source": [
    "r = int(input(\"Enter the number of rows:\")) \n",
    "c = int(input(\"Enter the number of columns:\"))\n",
    "matrix1 = []\n",
    "print('Enter the data of first matrix')\n",
    "for i in range(r):\n",
    "    a = []\n",
    "    for j in range(c):\n",
    "        a.append(int(input()))\n",
    "    matrix1.append(a)\n",
    "print('Enter the data of second matrix')\n",
    "matrix2 = []\n",
    "for i in range(r):\n",
    "    a = []\n",
    "    for j in range(c):\n",
    "        a.append(int(input()))\n",
    "    matrix2.append(a)\n",
    "matrix3 = []\n",
    "for i in range(r):\n",
    "    a = []\n",
    "    for j in range(c):\n",
    "        a.append(0)\n",
    "    matrix3.append(a)\n",
    "for i in range(r):\n",
    "    for j in range(c):\n",
    "        matrix3[i][j] = matrix2[i][j] * matrix1[i][j]\n",
    "for i in range(r): \n",
    "    for j in range(c): \n",
    "        print(matrix3[i][j], end = \" \") \n",
    "    print() "
   ]
  },
  {
   "cell_type": "markdown",
   "metadata": {},
   "source": [
    "## Transpose of a matrix"
   ]
  },
  {
   "cell_type": "code",
   "execution_count": 6,
   "metadata": {},
   "outputs": [
    {
     "name": "stdout",
     "output_type": "stream",
     "text": [
      "Enter the number of rows:3\n",
      "Enter the number of columns:3\n",
      "Enter the data of a matrix\n",
      "4\n",
      "5\n",
      "6\n",
      "3\n",
      "2\n",
      "1\n",
      "8\n",
      "9\n",
      "7\n",
      "4 3 8 \n",
      "5 2 9 \n",
      "6 1 7 \n"
     ]
    }
   ],
   "source": [
    "r = int(input(\"Enter the number of rows:\")) \n",
    "c = int(input(\"Enter the number of columns:\"))\n",
    "matrix1 = []\n",
    "print('Enter the data of a matrix')\n",
    "for i in range(r):\n",
    "    a = []\n",
    "    for j in range(c):\n",
    "        a.append(int(input()))\n",
    "    matrix1.append(a)\n",
    "\n",
    "matrix = []\n",
    "for i in range(r):\n",
    "    a = []\n",
    "    for j in range(c):\n",
    "        a.append(0)\n",
    "    matrix.append(a)\n",
    "for i in range(r):\n",
    "    for j in range(c):\n",
    "        matrix[j][i] = matrix1[i][j]\n",
    "for i in range(r): \n",
    "    for j in range(c): \n",
    "        print(matrix[i][j], end = \" \") \n",
    "    print() "
   ]
  },
  {
   "cell_type": "markdown",
   "metadata": {},
   "source": [
    "## Add elements of diagonal of a matrix"
   ]
  },
  {
   "cell_type": "code",
   "execution_count": 7,
   "metadata": {},
   "outputs": [
    {
     "name": "stdout",
     "output_type": "stream",
     "text": [
      "Enter the number of rows:3\n",
      "Enter the number of columns:3\n",
      "Enter the data of a matrix\n",
      "1\n",
      "2\n",
      "3\n",
      "4\n",
      "5\n",
      "6\n",
      "7\n",
      "4\n",
      "3\n",
      "Sum is  9\n"
     ]
    }
   ],
   "source": [
    "r = int(input(\"Enter the number of rows:\")) \n",
    "c = int(input(\"Enter the number of columns:\"))\n",
    "matrix1 = []\n",
    "print('Enter the data of a matrix')\n",
    "for i in range(r):\n",
    "    a = []\n",
    "    for j in range(c):\n",
    "        a.append(int(input()))\n",
    "    matrix1.append(a)\n",
    "sum = 0\n",
    "for i in range(r):\n",
    "    for j in range(c):\n",
    "        if i == j:\n",
    "             sum += matrix1[i][j]\n",
    "print('Sum is ', sum)\n"
   ]
  },
  {
   "cell_type": "code",
   "execution_count": 9,
   "metadata": {},
   "outputs": [
    {
     "name": "stdout",
     "output_type": "stream",
     "text": [
      "Enter the number of rows:3\n",
      "Enter the number of columns:3\n",
      "Enter the data of a matrix\n",
      "2\n",
      "3\n",
      "4\n",
      "5\n",
      "6\n",
      "7\n",
      "8\n",
      "9\n",
      "7\n",
      "[[-2.33333333  1.66666667 -0.33333333]\n",
      " [ 2.33333333 -2.          0.66666667]\n",
      " [-0.33333333  0.66666667 -0.33333333]]\n"
     ]
    }
   ],
   "source": [
    "import numpy\n",
    "r = int(input(\"Enter the number of rows:\")) \n",
    "c = int(input(\"Enter the number of columns:\"))\n",
    "matrix1 = []\n",
    "print('Enter the data of a matrix')\n",
    "for i in range(r):\n",
    "    a = []\n",
    "    for j in range(c):\n",
    "        a.append(int(input()))\n",
    "    matrix1.append(a)\n",
    "print(numpy.linalg.inv(matrix1))"
   ]
  },
  {
   "cell_type": "markdown",
   "metadata": {},
   "source": [
    "# Exercise - 5"
   ]
  },
  {
   "cell_type": "markdown",
   "metadata": {},
   "source": [
    "## Max of three numbers"
   ]
  },
  {
   "cell_type": "code",
   "execution_count": 14,
   "metadata": {},
   "outputs": [
    {
     "name": "stdout",
     "output_type": "stream",
     "text": [
      "Enter value of x 6\n",
      "Enter value of y 90\n",
      "Enter value of z 6\n",
      "90\n"
     ]
    }
   ],
   "source": [
    "no = -99\n",
    "def maxNumber(x, y, z):\n",
    "    if x >= y and x >= z:\n",
    "        no = x\n",
    "    elif y >= x and y >= z:\n",
    "        no = y\n",
    "    else:\n",
    "        no = z\n",
    "    return no\n",
    "        \n",
    "x = int(input('Enter value of x '))\n",
    "y = int(input('Enter value of y '))\n",
    "z = int(input('Enter value of z '))\n",
    "print(maxNumber(x, y, z))\n",
    "    "
   ]
  },
  {
   "cell_type": "markdown",
   "metadata": {},
   "source": [
    "## Sum all numbers in a list"
   ]
  },
  {
   "cell_type": "code",
   "execution_count": 22,
   "metadata": {},
   "outputs": [
    {
     "name": "stdout",
     "output_type": "stream",
     "text": [
      "Enter number of elements 5\n",
      "1\n",
      "2\n",
      "3\n",
      "4\n",
      "5\n",
      "15\n"
     ]
    }
   ],
   "source": [
    "list1 = []\n",
    "n = int(input('Enter number of elements '))\n",
    "sum = 0\n",
    "for i in range(n):\n",
    "    ele = int(input())\n",
    "    list1.append(ele)\n",
    "for i in range(n):\n",
    "    sum += list1[i]\n",
    "\n",
    "print(sum)"
   ]
  },
  {
   "cell_type": "markdown",
   "metadata": {},
   "source": [
    "## Multiply all numbers "
   ]
  },
  {
   "cell_type": "code",
   "execution_count": 25,
   "metadata": {},
   "outputs": [
    {
     "name": "stdout",
     "output_type": "stream",
     "text": [
      "Enter number of elements 5\n",
      "3\n",
      "2\n",
      "1\n",
      "4\n",
      "2\n",
      "48\n"
     ]
    }
   ],
   "source": [
    "list1 = []\n",
    "n = int(input('Enter number of elements '))\n",
    "multiply = 1\n",
    "for i in range(n):\n",
    "    ele = int(input())\n",
    "    list1.append(ele)\n",
    "for i in list1:\n",
    "    multiply = multiply * i\n",
    "\n",
    "print(multiply)"
   ]
  },
  {
   "cell_type": "markdown",
   "metadata": {},
   "source": [
    "## Reverse a string "
   ]
  },
  {
   "cell_type": "code",
   "execution_count": 26,
   "metadata": {},
   "outputs": [
    {
     "name": "stdout",
     "output_type": "stream",
     "text": [
      "Enter any string tanya\n"
     ]
    },
    {
     "data": {
      "text/plain": [
       "'aynat'"
      ]
     },
     "execution_count": 26,
     "metadata": {},
     "output_type": "execute_result"
    }
   ],
   "source": [
    "def reverse(s1):\n",
    "    return s1[::-1]\n",
    "s1 = input('Enter any string ')\n",
    "reverse(s1)"
   ]
  },
  {
   "cell_type": "markdown",
   "metadata": {},
   "source": [
    "## String is palindrome or not"
   ]
  },
  {
   "cell_type": "code",
   "execution_count": 29,
   "metadata": {},
   "outputs": [
    {
     "name": "stdout",
     "output_type": "stream",
     "text": [
      "Enter any string malayalam\n",
      "String is palindrome\n"
     ]
    }
   ],
   "source": [
    "def reverse(s1):\n",
    "    return s1[::-1]\n",
    "s1 = input('Enter any string ')\n",
    "if s1 == reverse(s1):\n",
    "    print('String is palindrome')\n",
    "else:\n",
    "    print('String is not palindrome')"
   ]
  },
  {
   "cell_type": "markdown",
   "metadata": {},
   "source": [
    "## Function inside a function"
   ]
  },
  {
   "cell_type": "code",
   "execution_count": 34,
   "metadata": {},
   "outputs": [
    {
     "name": "stdout",
     "output_type": "stream",
     "text": [
      "Hello inside function 1\n",
      "Hello inside function 2\n"
     ]
    }
   ],
   "source": [
    "def f1():\n",
    "    print('Hello inside function 1')\n",
    "    def f2():\n",
    "        print('Hello inside function 2')\n",
    "    f2()\n",
    "        \n",
    "f1()"
   ]
  },
  {
   "cell_type": "markdown",
   "metadata": {},
   "source": [
    "## Function to print even numbers"
   ]
  },
  {
   "cell_type": "code",
   "execution_count": 38,
   "metadata": {},
   "outputs": [
    {
     "name": "stdout",
     "output_type": "stream",
     "text": [
      "Enter the number 10\n",
      "2\n",
      "3\n",
      "5\n",
      "7\n"
     ]
    }
   ],
   "source": [
    "def even(n):\n",
    "    flag = 0\n",
    "    for i in range(2, n+1):\n",
    "        for j in range(1, int(i/2) + 1):\n",
    "            if j != 1 and i%j == 0:\n",
    "                flag = 1\n",
    "        if flag == 0:\n",
    "            print(i)\n",
    "        flag = 0\n",
    "n = int(input('Enter the number '))\n",
    "even(n)"
   ]
  },
  {
   "cell_type": "markdown",
   "metadata": {},
   "source": [
    "## Function to check is a no is prime or not"
   ]
  },
  {
   "cell_type": "code",
   "execution_count": 36,
   "metadata": {},
   "outputs": [
    {
     "name": "stdout",
     "output_type": "stream",
     "text": [
      "Enter any number 7\n",
      "True\n"
     ]
    }
   ],
   "source": [
    "def isprime(n):\n",
    "    for i in range(2, int(n/2) + 1):\n",
    "        if n%i == 0:\n",
    "            return False\n",
    "    return True\n",
    "n = int(input('Enter any number '))\n",
    "print(isprime(n))"
   ]
  },
  {
   "cell_type": "markdown",
   "metadata": {},
   "source": [
    "## Recursive function to sum all numbers"
   ]
  },
  {
   "cell_type": "code",
   "execution_count": 3,
   "metadata": {},
   "outputs": [
    {
     "name": "stdout",
     "output_type": "stream",
     "text": [
      "Enter number of elements 5\n",
      "3\n",
      "2\n",
      "2\n",
      "1\n",
      "3\n",
      "11\n"
     ]
    }
   ],
   "source": [
    "def rSum(list1):\n",
    "    if len(list1) == 1:\n",
    "        return list1[0]\n",
    "    else:\n",
    "        return list1[0] + rSum(list1[1:])\n",
    "\n",
    "list1 = []\n",
    "n = int(input('Enter number of elements '))\n",
    "sum = 0\n",
    "for i in range(n):\n",
    "    ele = int(input())\n",
    "    list1.append(ele)\n",
    "print(rSum(list1))"
   ]
  },
  {
   "cell_type": "markdown",
   "metadata": {},
   "source": [
    "## Recursive function to multiply the numbrers"
   ]
  },
  {
   "cell_type": "code",
   "execution_count": 4,
   "metadata": {},
   "outputs": [
    {
     "name": "stdout",
     "output_type": "stream",
     "text": [
      "Enter number of elements 5\n",
      "2\n",
      "1\n",
      "2\n",
      "1\n",
      "2\n",
      "8\n"
     ]
    }
   ],
   "source": [
    "def rSum(list1):\n",
    "    if len(list1) == 1:\n",
    "        return list1[0]\n",
    "    else:\n",
    "        return list1[0] * rSum(list1[1:])\n",
    "\n",
    "list1 = []\n",
    "n = int(input('Enter number of elements '))\n",
    "for i in range(n):\n",
    "    ele = int(input())\n",
    "    list1.append(ele)\n",
    "print(rSum(list1))"
   ]
  },
  {
   "cell_type": "markdown",
   "metadata": {},
   "source": [
    "## Recursive function to reverse a string "
   ]
  },
  {
   "cell_type": "code",
   "execution_count": 17,
   "metadata": {},
   "outputs": [
    {
     "name": "stdout",
     "output_type": "stream",
     "text": [
      "Enter the string to be reversed: tanya\n",
      "aynat\n"
     ]
    }
   ],
   "source": [
    "   def reverse(string):\n",
    "    if len(string) == 0:\n",
    "        return string\n",
    "    else:\n",
    "        return reverse(string[1:]) + string[0]\n",
    "a = input(\"Enter the string to be reversed: \")\n",
    "print(reverse(a))"
   ]
  },
  {
   "cell_type": "markdown",
   "metadata": {},
   "source": [
    "## Recursive function to check if the string is palindrome"
   ]
  },
  {
   "cell_type": "code",
   "execution_count": 19,
   "metadata": {},
   "outputs": [
    {
     "name": "stdout",
     "output_type": "stream",
     "text": [
      "Enter any string malayalam\n",
      "Yes this string is palindrome\n"
     ]
    }
   ],
   "source": [
    "def palindrome(string):\n",
    "    if len(string) == 0:\n",
    "        return string\n",
    "    else:\n",
    "        return palindrome(string[1::]) + string[0]\n",
    "string = input('Enter any string ')\n",
    "if palindrome(string) == string:\n",
    "    print('Yes this string is palindrome')\n",
    "else:\n",
    "    print('No this string is not a palindrome')"
   ]
  },
  {
   "cell_type": "markdown",
   "metadata": {},
   "source": [
    "## Recursive function to generate even series upto n"
   ]
  },
  {
   "cell_type": "code",
   "execution_count": 16,
   "metadata": {},
   "outputs": [
    {
     "name": "stdout",
     "output_type": "stream",
     "text": [
      "Enter the value of n 5\n",
      "0 2 4 None\n"
     ]
    }
   ],
   "source": [
    "def Even(n, N):\n",
    "    if (N < n):\n",
    "        return\n",
    "    if (N % 2 == 0):\n",
    "        Even(n, N - 2)\n",
    "    else:\n",
    "        Even(n, N - 1)\n",
    "    if (N % 2 == 0):\n",
    "        print(N, end = \" \")\n",
    "\n",
    "n = int(input('Enter the value of n '))\n",
    "print(Even(0, n))"
   ]
  },
  {
   "cell_type": "markdown",
   "metadata": {},
   "source": [
    "## Recursive function in python to check if a number is prime or not"
   ]
  },
  {
   "cell_type": "code",
   "execution_count": 26,
   "metadata": {},
   "outputs": [
    {
     "name": "stdout",
     "output_type": "stream",
     "text": [
      "Enter any number 19\n"
     ]
    },
    {
     "data": {
      "text/plain": [
       "True"
      ]
     },
     "execution_count": 26,
     "metadata": {},
     "output_type": "execute_result"
    }
   ],
   "source": [
    "def prime(n, i): \n",
    "    if (n <= 2): \n",
    "        return True if(n == 2) else False\n",
    "    if(i == n):\n",
    "        return True\n",
    "    if (n % i == 0): \n",
    "        return False\n",
    "    return prime(n, i + 1) \n",
    "\n",
    "n = int(input('Enter any number '))\n",
    "prime(n, 2)"
   ]
  },
  {
   "cell_type": "markdown",
   "metadata": {},
   "source": [
    "## Recursive function in python to generate prime series between range"
   ]
  },
  {
   "cell_type": "code",
   "execution_count": 32,
   "metadata": {},
   "outputs": [
    {
     "name": "stdout",
     "output_type": "stream",
     "text": [
      "Enter lower limit 1\n",
      "Enter upper limit 20\n",
      "2\n",
      "3\n",
      "5\n",
      "7\n",
      "11\n",
      "13\n",
      "17\n",
      "19\n"
     ]
    }
   ],
   "source": [
    "def prime(n, i): \n",
    "    if (n <= 2): \n",
    "        if(n == 2):\n",
    "            print(n)\n",
    "            return\n",
    "        else:\n",
    "            return\n",
    "    if(i == n):\n",
    "        print(n)\n",
    "        return\n",
    "    if (n % i == 0): \n",
    "        return\n",
    "    return prime(n, i + 1) \n",
    "\n",
    "l = int(input('Enter lower limit '))\n",
    "u = int(input('Enter upper limit '))\n",
    "for i in range(l, u + 1):\n",
    "    prime(i, 2)"
   ]
  },
  {
   "cell_type": "markdown",
   "metadata": {},
   "source": [
    "# Exercise - 6"
   ]
  },
  {
   "cell_type": "markdown",
   "metadata": {},
   "source": [
    "## Read a file and print the number of characters, words and lines"
   ]
  },
  {
   "cell_type": "code",
   "execution_count": 4,
   "metadata": {},
   "outputs": [
    {
     "name": "stdout",
     "output_type": "stream",
     "text": [
      "lines: 3 words: 9 characters: 36\n"
     ]
    }
   ],
   "source": [
    "file = open(\"untitled.txt\", \"r\")\n",
    "\n",
    "number_of_lines = 0\n",
    "number_of_words = 0\n",
    "number_of_characters = 0\n",
    "for line in file:\n",
    "  line = line.strip(\"\\n\")\n",
    "\n",
    "  words = line.split()\n",
    "  number_of_lines += 1\n",
    "  number_of_words += len(words)\n",
    "  number_of_characters += len(line)\n",
    "\n",
    "file.close()\n",
    "\n",
    "print(\"lines:\", number_of_lines, \"words:\", number_of_words, \"characters:\", number_of_characters)\n"
   ]
  },
  {
   "cell_type": "markdown",
   "metadata": {},
   "source": [
    "## Copy contents of one file to another"
   ]
  },
  {
   "cell_type": "code",
   "execution_count": 5,
   "metadata": {},
   "outputs": [],
   "source": [
    "with open('untitled.txt','r') as firstfile, open('second.txt','a') as secondfile: \n",
    "      \n",
    "    for line in firstfile: \n",
    "                \n",
    "             secondfile.write(line)"
   ]
  },
  {
   "cell_type": "markdown",
   "metadata": {},
   "source": [
    "## Count number of vowels"
   ]
  },
  {
   "cell_type": "code",
   "execution_count": 11,
   "metadata": {},
   "outputs": [
    {
     "name": "stdout",
     "output_type": "stream",
     "text": [
      "Number of vowels are:  13\n"
     ]
    }
   ],
   "source": [
    "file = open(\"untitled.txt\", \"r\")\n",
    "\n",
    "number_of_vowels = 0\n",
    "for line in file:\n",
    "    j = line.strip(\"\\n\")\n",
    "    for i in j:\n",
    "        if (i=='a' or i=='e' or i=='i' or i=='o' or i=='u' or i=='A' or i=='E' or i=='I' or i=='O' or i=='U'):\n",
    "            number_of_vowels += 1 \n",
    "    \n",
    "\n",
    "file.close()\n",
    "\n",
    "print(\"Number of vowels are: \", number_of_vowels)\n"
   ]
  },
  {
   "cell_type": "markdown",
   "metadata": {},
   "source": [
    "## Number of articles"
   ]
  },
  {
   "cell_type": "code",
   "execution_count": 20,
   "metadata": {},
   "outputs": [
    {
     "name": "stdout",
     "output_type": "stream",
     "text": [
      "Number of articles are:  2\n"
     ]
    }
   ],
   "source": [
    "file = open(\"second.txt\", \"r\")\n",
    "\n",
    "number_of_articles = 0\n",
    "for line in file:\n",
    "    lines = line.strip(\"\\n\")\n",
    "    words = lines.split()\n",
    "    for word in words:\n",
    "            if(word == 'the' or word == 'is' or word == 'a'):\n",
    "                 number_of_articles += 1\n",
    "        \n",
    "file.close()\n",
    "\n",
    "print(\"Number of articles are: \", number_of_articles)\n"
   ]
  },
  {
   "cell_type": "markdown",
   "metadata": {},
   "source": [
    "## Read file in reverse order"
   ]
  },
  {
   "cell_type": "code",
   "execution_count": 21,
   "metadata": {},
   "outputs": [
    {
     "name": "stdout",
     "output_type": "stream",
     "text": [
      "from a store\n",
      "\n",
      "Are you the same guy\n",
      "\n"
     ]
    }
   ],
   "source": [
    "file = open(\"second.txt\")\n",
    "lines = file.readlines()\n",
    "for line in reversed(lines):\n",
    "    print(line)"
   ]
  },
  {
   "cell_type": "code",
   "execution_count": null,
   "metadata": {},
   "outputs": [],
   "source": []
  }
 ],
 "metadata": {
  "kernelspec": {
   "display_name": "Python 3",
   "language": "python",
   "name": "python3"
  },
  "language_info": {
   "codemirror_mode": {
    "name": "ipython",
    "version": 3
   },
   "file_extension": ".py",
   "mimetype": "text/x-python",
   "name": "python",
   "nbconvert_exporter": "python",
   "pygments_lexer": "ipython3",
   "version": "3.8.5"
  }
 },
 "nbformat": 4,
 "nbformat_minor": 4
}
